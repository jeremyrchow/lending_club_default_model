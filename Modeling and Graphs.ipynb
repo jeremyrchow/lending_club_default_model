{
 "cells": [
  {
   "cell_type": "code",
   "execution_count": 6,
   "metadata": {},
   "outputs": [],
   "source": [
    "import pandas as pd\n",
    "import matplotlib.pyplot as plt\n",
    "import numpy as np\n",
    "import datetime as dt\n",
    "import seaborn as sns\n",
    "import patsy\n",
    "from sklearn.model_selection import train_test_split\n",
    "from sklearn.metrics import confusion_matrix\n",
    "import pickle\n",
    "# Import models\n",
    "from sklearn.ensemble import RandomForestClassifier\n",
    "from sklearn.ensemble import GradientBoostingClassifier\n",
    "from sklearn.linear_model import LogisticRegression\n",
    "from sklearn.naive_bayes import GaussianNB\n",
    "from sklearn.neural_network import MLPClassifier\n",
    "from joblib import dump,load\n",
    "from sklearn.preprocessing import StandardScaler\n",
    "# Import scoring metrics\n",
    "from sklearn.metrics import roc_auc_score, roc_curve\n",
    "from sklearn.model_selection import GridSearchCV\n",
    "from sklearn.metrics import precision_score, recall_score, precision_recall_curve,f1_score, fbeta_score\n",
    "%matplotlib inline\n",
    "pd.set_option('display.max_columns', None)\n",
    "np.set_printoptions(suppress=True) # Suppress scientific notation where possible"
   ]
  },
  {
   "cell_type": "code",
   "execution_count": 46,
   "metadata": {},
   "outputs": [],
   "source": [
    "df_temp = pd.read_pickle('./clean_data/clean_data_dataframe.zip')"
   ]
  },
  {
   "cell_type": "code",
   "execution_count": 57,
   "metadata": {},
   "outputs": [],
   "source": [
    "# Define a 'basic' dataframe that only predicts off LendingClub sub_grade feature\n",
    "df_basic= df_temp[['loan_status','sub_grade']]\n",
    "\n",
    "# Select a grade to look at \n",
    "\n",
    "# Only look at low grades, high interest\n",
    "#df_temp = df_temp.loc[df_temp['sub_grade'].apply(lambda element: ('B' in element))]\n",
    "\n",
    "df_temp.drop(columns = 'sub_grade', inplace = True)"
   ]
  },
  {
   "cell_type": "code",
   "execution_count": 45,
   "metadata": {},
   "outputs": [],
   "source": [
    "# Load models\n",
    "model_filepath = './models/'\n",
    "rfc = load('../rfc_model/rfc.pkl')\n",
    "lm = load(model_filepath + 'lm.pkl')\n",
    "gbc = load(model_filepath + 'gbc.pkl')\n"
   ]
  },
  {
   "cell_type": "code",
   "execution_count": 58,
   "metadata": {},
   "outputs": [],
   "source": [
    "# Helper functions\n",
    "def patsy_string_from_df(df,target_string):\n",
    "    \"\"\"Makes patsy string from dataframe df. Drops target_string column by default.\"\"\"\n",
    "    df = df.drop(columns = [target_string]) # Drop the target variable\n",
    "    patsy_string = ''\n",
    "    for title in df.columns:\n",
    "        patsy_string += title + \" + \"\n",
    "    #remove last plus and spaces from string\n",
    "    patsy_string=patsy_string[:-3]\n",
    "    # print(\"Patsy String: \" +patsy_string)\n",
    "    return patsy_string\n",
    "\n",
    "def make_confusion_matrix(model, X_test , y_test, threshold=.5, plot = False):\n",
    "    # Predict class 1 if probability of being in class 1 is greater than threshold\n",
    "    # (model.predict(X_test) does this automatically with a threshold of 0.5)\n",
    "    y_predict = (model.predict_proba(X_test)[:, 1] >= threshold)\n",
    "    mat_confusion = confusion_matrix(y_test, y_predict)\n",
    "\n",
    "    if plot:\n",
    "        plt.figure(dpi=80)\n",
    "        plt.figure(figsize=(8, 8))\n",
    "        sns.heatmap(mat_confusion, cmap=plt.cm.Blues, annot=True, square=True, fmt='d',\n",
    "               xticklabels=['Paid off', 'Defaulted'],\n",
    "               yticklabels=['Paid off', 'Defaulted']);\n",
    "        plt.xlabel('prediction')\n",
    "        plt.ylabel('actual')\n",
    "        plt.title(str(type(model)))\n",
    "    return mat_confusion\n",
    "\n",
    "\n"
   ]
  },
  {
   "cell_type": "code",
   "execution_count": 59,
   "metadata": {},
   "outputs": [],
   "source": [
    "X = patsy.dmatrix(patsy_string_from_df(df_temp,'loan_status'),df_temp)\n",
    "y = df_temp['loan_status'].values\n",
    "X_train, X_test, y_train, y_test = train_test_split(X, y, test_size=0.2, random_state=123456)\n",
    "# Standardize for models that nead standardization variables\n",
    "scaler = StandardScaler()\n",
    "scaler.fit(X_train)\n",
    "X_train_standard = scaler.transform(X_train)\n",
    "X_test_standard = scaler.transform(X_test)\n",
    "\n",
    "# Standardize all for simplicity\n",
    "X_train = X_train_standard\n",
    "X_test = X_test_standard\n"
   ]
  },
  {
   "cell_type": "code",
   "execution_count": 60,
   "metadata": {},
   "outputs": [
    {
     "data": {
      "text/plain": [
       "array([[19001, 15250],\n",
       "       [ 1766,  5816]])"
      ]
     },
     "execution_count": 60,
     "metadata": {},
     "output_type": "execute_result"
    },
    {
     "data": {
      "text/plain": [
       "<Figure size 480x320 with 0 Axes>"
      ]
     },
     "metadata": {},
     "output_type": "display_data"
    },
    {
     "data": {
      "image/png": "[encoded data removed]",
      "text/plain": [
       "<Figure size 576x576 with 2 Axes>"
      ]
     },
     "metadata": {
      "needs_background": "light"
     },
     "output_type": "display_data"
    }
   ],
   "source": [
    "make_confusion_matrix(gbc, X_test, y_test, threshold = .15,plot = True)"
   ]
  },
  {
   "cell_type": "markdown",
   "metadata": {},
   "source": [
    "# Cost function to optimize threshold\n",
    "\n",
    "(Loans classified as defaulted but fully paid off * average paid off loan amount ) - \n",
    "(loans classified as paid off but defaulted * average loss to defaulted loan amount)\n",
    "\n"
   ]
  },
  {
   "cell_type": "code",
   "execution_count": null,
   "metadata": {},
   "outputs": [
    {
     "name": "stderr",
     "output_type": "stream",
     "text": [
      "/anaconda3/lib/python3.7/site-packages/ipykernel_launcher.py:12: SettingWithCopyWarning: \n",
      "A value is trying to be set on a copy of a slice from a DataFrame.\n",
      "Try using .loc[row_indexer,col_indexer] = value instead\n",
      "\n",
      "See the caveats in the documentation: http://pandas.pydata.org/pandas-docs/stable/indexing.html#indexing-view-versus-copy\n",
      "  if sys.path[0] == '':\n"
     ]
    },
    {
     "name": "stdout",
     "output_type": "stream",
     "text": [
      "LC average contribution to loans: 66.42326075411577\n",
      "LC total contributions to loans: 875525.0\n"
     ]
    },
    {
     "name": "stderr",
     "output_type": "stream",
     "text": [
      "/anaconda3/lib/python3.7/site-packages/pandas/core/generic.py:6130: SettingWithCopyWarning: \n",
      "A value is trying to be set on a copy of a slice from a DataFrame\n",
      "\n",
      "See the caveats in the documentation: http://pandas.pydata.org/pandas-docs/stable/indexing.html#indexing-view-versus-copy\n",
      "  self._update_inplace(new_data)\n",
      "/anaconda3/lib/python3.7/site-packages/ipykernel_launcher.py:44: SettingWithCopyWarning: \n",
      "A value is trying to be set on a copy of a slice from a DataFrame.\n",
      "Try using .loc[row_indexer,col_indexer] = value instead\n",
      "\n",
      "See the caveats in the documentation: http://pandas.pydata.org/pandas-docs/stable/indexing.html#indexing-view-versus-copy\n",
      "/anaconda3/lib/python3.7/site-packages/ipykernel_launcher.py:45: SettingWithCopyWarning: \n",
      "A value is trying to be set on a copy of a slice from a DataFrame.\n",
      "Try using .loc[row_indexer,col_indexer] = value instead\n",
      "\n",
      "See the caveats in the documentation: http://pandas.pydata.org/pandas-docs/stable/indexing.html#indexing-view-versus-copy\n"
     ]
    },
    {
     "name": "stdout",
     "output_type": "stream",
     "text": [
      "current_investor_profit: -20478746.62011756\n",
      "better model_profit: 10247403.44663516\n",
      "better model_profit: 23733424.72201605\n",
      "better model_profit: 27423347.47333522\n"
     ]
    }
   ],
   "source": [
    "\n",
    "\n",
    "df = pd.read_pickle('./data/loan_data_2014.zip',compression = 'zip')\n",
    "df = df.loc[(df['loan_status'] == 'Fully Paid') | (df['loan_status'] == 'Charged Off')]\n",
    "df.shape\n",
    "\n",
    "df_gain = df.loc[df['loan_status'] == 'Fully Paid']\n",
    "\n",
    "# How much does LC fund their loans?\n",
    "\n",
    "df_lc_funds = (df_gain.loc[df_gain['loan_amnt'] != df_gain['funded_amnt_inv']])\n",
    "df_lc_funds['lc_funds']= df_lc_funds['funded_amnt'] - df_lc_funds['funded_amnt_inv']\n",
    "print('LC average contribution to loans: ' + str(df_lc_funds['lc_funds'].mean()))\n",
    "print('LC total contributions to loans: ' + str(df_lc_funds['lc_funds'].mean()*df_lc_funds.shape[0]))\n",
    "\n",
    "# # Find Average gains and losses on misclassified loans\n",
    "\n",
    "# Find average gains per successful loan\n",
    "df_gain = df.loc[df['loan_status'] == 'Fully Paid']\n",
    "df_gain = df_gain[['loan_amnt',\n",
    "        'total_pymnt',\n",
    "        'total_rec_int',\n",
    "        'total_rec_late_fee',\n",
    "        'total_rec_prncp','total_pymnt_inv']]\n",
    "df_gain['total_gain'] = df_gain['total_rec_int'] + df_gain['total_rec_late_fee']\n",
    "average_gain_per_successful_loan = df_gain['total_rec_int'].mean()\n",
    "\n",
    "\n",
    "# In[102]:\n",
    "\n",
    "\n",
    "# Find average loss per charged off loan\n",
    "df_loss=df.loc[df['loan_status'] == 'Charged Off']\n",
    "df_loss = df[['loan_amnt',\n",
    "    'total_rec_int',\n",
    "    'total_rec_late_fee',\n",
    "    'total_rec_prncp',\n",
    "    'settlement_amount']]\n",
    "df_loss['settlement_amount'].fillna(0,inplace = True)\n",
    "df_loss['total_recovered'] = df_loss['total_rec_int'] +\\\n",
    "                            df_loss['total_rec_late_fee'] + \\\n",
    "                            df_loss['total_rec_late_fee'] +\\\n",
    "                            df_loss['total_rec_prncp'] +\\\n",
    "                            df_loss['settlement_amount']\n",
    "df_loss['percent_recovered'] = df_loss['total_recovered'] / df_loss['loan_amnt']\n",
    "average_loss_per_unsuccessful_loan = df_loss['total_recovered'].mean()\n",
    "\n",
    "\n",
    "# # Test 1: Use F1_SCORE and for loop to find best threshold in rf model\n",
    "# \n",
    "\n",
    "def find_best_threshold(model, int_num_steps,X_test,y_test, metric):\n",
    "    best_threshold = 0    \n",
    "    if metric == 'f1':\n",
    "        highest_f1 = 0\n",
    "        for threshold in np.linspace (0, 1, int_num_steps):\n",
    "            y_predict = (model.predict_proba(X_test)[:, 1] >= threshold) \n",
    "            f1 = f1_score(y_test,y_predict)\n",
    "            if f1 > highest_f1:\n",
    "                best_threshold, highest_f1 = threshold, f1\n",
    "        return best_threshold, highest_f1;\n",
    "    if metric == 'loan':\n",
    "        highest_profit = -1\n",
    "        model_profit = -1\n",
    "        current_investor_profit = 0\n",
    "        for threshold in np.linspace(0,1, int_num_steps):\n",
    "            # Positive in this case is classified as charged off\n",
    "            cm = make_confusion_matrix(model,X_test,y_test, threshold)\n",
    "            false_positive = cm[0][1]\n",
    "            false_negative = cm[1][0]\n",
    "            true_positive = cm[1][1]\n",
    "            true_negative = cm[0][0]\n",
    "            model_profit = false_positive * average_gain_per_successful_loan +\\\n",
    "                        false_negative * average_loss_per_unsuccessful_loan\n",
    "            \n",
    "            rel_model_profit = average_gain_per_successful_loan * true_negative +\\\n",
    "                    average_loss_per_unsuccessful_loan * true_positive -\\\n",
    "                    (average_gain_per_successful_loan * false_positive +\\\n",
    "                    average_loss_per_unsuccessful_loan * false_negative)\n",
    "            model_profit = true_negative * average_gain_per_successful_loan -\\\n",
    "                            false_negative * average_loss_per_unsuccessful_loan\n",
    "            \n",
    "            if highest_profit < 0:\n",
    "                highest_profit = model_profit\n",
    "            elif model_profit > highest_profit:\n",
    "                highest_profit = model_profit\n",
    "                best_threshold = threshold\n",
    "\n",
    "                print(\"better model_profit: \" + str(model_profit))\n",
    "            if not current_investor_profit:\n",
    "                current_investor_profit = average_gain_per_successful_loan * (true_negative + false_positive) -\\\n",
    "                                    (average_loss_per_unsuccessful_loan * (false_negative + true_positive))\n",
    "                print(\"current_investor_profit: \" + str(current_investor_profit))\n",
    "        return best_threshold, highest_profit\n",
    "\n",
    "best_thresh, highest_profit = find_best_threshold(gbc,20,X_test_standard,y_test, metric = 'loan')\n",
    "\n",
    "make_confusion_matrix(gbc,X_test, y_test ,best_thresh,plot = True)\n",
    "print('Best Threshold: ', best_thresh)\n",
    "\n"
   ]
  },
  {
   "cell_type": "code",
   "execution_count": null,
   "metadata": {},
   "outputs": [],
   "source": []
  }
 ],
 "metadata": {
  "kernelspec": {
   "display_name": "Python 3",
   "language": "python",
   "name": "python3"
  },
  "language_info": {
   "codemirror_mode": {
    "name": "ipython",
    "version": 3
   },
   "file_extension": ".py",
   "mimetype": "text/x-python",
   "name": "python",
   "nbconvert_exporter": "python",
   "pygments_lexer": "ipython3",
   "version": "3.7.3"
  }
 },
 "nbformat": 4,
 "nbformat_minor": 2
}
