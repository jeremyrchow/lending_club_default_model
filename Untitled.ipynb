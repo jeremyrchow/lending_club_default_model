{
 "cells": [
  {
   "cell_type": "code",
   "execution_count": 1,
   "metadata": {},
   "outputs": [],
   "source": [
    "import pandas as pd\n",
    "import matplotlib.pyplot as plt\n",
    "import numpy as np\n",
    "import datetime as dt\n",
    "import seaborn as sns\n",
    "import patsy\n",
    "from sklearn.model_selection import train_test_split\n",
    "from sklearn.metrics import confusion_matrix\n",
    "import pickle\n",
    "# Import models\n",
    "from sklearn.ensemble import RandomForestClassifier\n",
    "from sklearn.ensemble import GradientBoostingClassifier\n",
    "from sklearn.linear_model import LogisticRegression\n",
    "from sklearn.naive_bayes import GaussianNB\n",
    "from sklearn.neural_network import MLPClassifier\n",
    "from joblib import dump,load\n",
    "from sklearn.preprocessing import StandardScaler\n",
    "# Import scoring metrics\n",
    "from sklearn.metrics import roc_auc_score, roc_curve\n",
    "from sklearn.model_selection import GridSearchCV\n",
    "from sklearn.metrics import precision_score, recall_score, precision_recall_curve,f1_score, fbeta_score\n",
    "%matplotlib inline\n",
    "pd.set_option('display.max_columns', None)\n",
    "np.set_printoptions(suppress=True) # Suppress scientific notation where possible"
   ]
  },
  {
   "cell_type": "code",
   "execution_count": null,
   "metadata": {},
   "outputs": [],
   "source": [
    "model_filepath = './models/'"
   ]
  },
  {
   "cell_type": "code",
   "execution_count": 10,
   "metadata": {},
   "outputs": [],
   "source": [
    "model_filepath = './models/'\n",
    "rfc = load(model_filepath + 'rfc.pkl')\n",
    "lm = load(model_filepath + 'lm.pkl')"
   ]
  },
  {
   "cell_type": "code",
   "execution_count": 9,
   "metadata": {},
   "outputs": [
    {
     "data": {
      "text/plain": [
       "array([0.        , 0.02328796, 0.00394191, 0.00257495, 0.00250006,\n",
       "       0.00215913, 0.00209292, 0.00208334, 0.00212993, 0.00218015,\n",
       "       0.00197441, 0.00273917, 0.00306975, 0.00223294, 0.0032959 ,\n",
       "       0.00408031, 0.00336546, 0.00321247, 0.00377577, 0.00160348,\n",
       "       0.00039654, 0.00097891, 0.00083788, 0.00063527, 0.00168431,\n",
       "       0.00010158, 0.0011113 , 0.0004604 , 0.0000003 , 0.00115073,\n",
       "       0.00091798, 0.00143315, 0.00313408, 0.00112204, 0.00091606,\n",
       "       0.00024903, 0.0003958 , 0.00258359, 0.0015555 , 0.00058435,\n",
       "       0.        , 0.00000009, 0.00173484, 0.00116682, 0.00058654,\n",
       "       0.00089012, 0.00105006, 0.00141718, 0.00152397, 0.        ,\n",
       "       0.00141369, 0.00138788, 0.00125271, 0.00074039, 0.00038193,\n",
       "       0.00157809, 0.00043476, 0.00189043, 0.00069442, 0.00115548,\n",
       "       0.00292037, 0.00172325, 0.00093705, 0.00074822, 0.00190489,\n",
       "       0.00044788, 0.00073896, 0.00032908, 0.00126312, 0.00246308,\n",
       "       0.00064048, 0.00178997, 0.00022532, 0.00109978, 0.00097851,\n",
       "       0.00041004, 0.00029707, 0.00296954, 0.00110777, 0.00000107,\n",
       "       0.        , 0.00323243, 0.00376149, 0.00199693, 0.00050148,\n",
       "       0.00006264, 0.00086521, 0.00049958, 0.00008099, 0.00002086,\n",
       "       0.        , 0.        , 0.00222786, 0.00131402, 0.00001833,\n",
       "       0.00000557, 0.00303813, 0.00239842, 0.00103136, 0.00002167,\n",
       "       0.00000724, 0.00318293, 0.02547975, 0.0292951 , 0.02720173,\n",
       "       0.03152658, 0.0057628 , 0.00953159, 0.01585609, 0.0042824 ,\n",
       "       0.02631775, 0.02144579, 0.00048158, 0.00826113, 0.02639846,\n",
       "       0.02639856, 0.01795794, 0.02739069, 0.02805854, 0.02688629,\n",
       "       0.00067079, 0.02779034, 0.0202122 , 0.01843798, 0.0107566 ,\n",
       "       0.0065295 , 0.01246846, 0.01389913, 0.01334572, 0.01778766,\n",
       "       0.01929715, 0.01525065, 0.01970381, 0.01383621, 0.0158376 ,\n",
       "       0.00259674, 0.01235508, 0.01522896, 0.01475761, 0.00314955,\n",
       "       0.00189757, 0.02729387, 0.02555289, 0.02645149, 0.02367154,\n",
       "       0.05033192, 0.02681499, 0.02643046])"
      ]
     },
     "execution_count": 9,
     "metadata": {},
     "output_type": "execute_result"
    }
   ],
   "source": [
    "rfc.feature_importances_"
   ]
  },
  {
   "cell_type": "code",
   "execution_count": 12,
   "metadata": {},
   "outputs": [
    {
     "data": {
      "text/plain": [
       "array([[-0.00000005, -0.00000011, -0.        , -0.00000001, -0.00000001,\n",
       "        -0.        , -0.        , -0.        , -0.        , -0.        ,\n",
       "        -0.        , -0.        , -0.00000002, -0.        , -0.00000002,\n",
       "         0.        ,  0.00000001, -0.00000003, -0.00000002, -0.        ,\n",
       "         0.        , -0.        ,  0.        ,  0.        , -0.        ,\n",
       "         0.        ,  0.        , -0.        , -0.        ,  0.        ,\n",
       "         0.        , -0.        , -0.00000001, -0.        , -0.        ,\n",
       "        -0.        ,  0.        , -0.        , -0.        , -0.        ,\n",
       "         0.        , -0.        , -0.        , -0.        , -0.        ,\n",
       "        -0.        ,  0.        , -0.        ,  0.        ,  0.        ,\n",
       "        -0.        , -0.        , -0.        ,  0.        , -0.        ,\n",
       "        -0.        , -0.        ,  0.        ,  0.        , -0.        ,\n",
       "        -0.        , -0.        ,  0.        , -0.        , -0.        ,\n",
       "        -0.        , -0.        , -0.        , -0.        , -0.        ,\n",
       "        -0.        ,  0.        , -0.        , -0.        , -0.        ,\n",
       "        -0.        , -0.        , -0.00000001, -0.        , -0.        ,\n",
       "        -0.        , -0.00000004, -0.00000002,  0.        ,  0.        ,\n",
       "         0.        , -0.        , -0.        ,  0.        ,  0.        ,\n",
       "         0.        ,  0.        , -0.        , -0.        , -0.        ,\n",
       "        -0.        , -0.00000004, -0.        , -0.        , -0.        ,\n",
       "         0.        , -0.00000004,  0.00003825, -0.00000694, -0.00000784,\n",
       "        -0.00000034,  0.00000001,  0.00000003, -0.00000025, -0.        ,\n",
       "         0.00001348, -0.00000054,  0.        , -0.00000003,  0.00000277,\n",
       "        -0.00001522,  0.00000006, -0.00003393,  0.00000536, -0.00000257,\n",
       "        -0.        , -0.00000218, -0.00000111, -0.00000082, -0.00000003,\n",
       "         0.        , -0.00000005, -0.00000006, -0.00000007, -0.00000013,\n",
       "        -0.00000025, -0.00000012, -0.00000026, -0.00000006, -0.00000025,\n",
       "        -0.        ,  0.00000004, -0.00000434, -0.00000134, -0.        ,\n",
       "         0.        , -0.00000037,  0.00000611, -0.00001123, -0.00000732,\n",
       "         0.00000013, -0.00000216, -0.00012525]])"
      ]
     },
     "execution_count": 12,
     "metadata": {},
     "output_type": "execute_result"
    }
   ],
   "source": [
    "lm.coef_"
   ]
  },
  {
   "cell_type": "code",
   "execution_count": null,
   "metadata": {},
   "outputs": [],
   "source": []
  }
 ],
 "metadata": {
  "kernelspec": {
   "display_name": "Python 3",
   "language": "python",
   "name": "python3"
  },
  "language_info": {
   "codemirror_mode": {
    "name": "ipython",
    "version": 3
   },
   "file_extension": ".py",
   "mimetype": "text/x-python",
   "name": "python",
   "nbconvert_exporter": "python",
   "pygments_lexer": "ipython3",
   "version": "3.7.3"
  }
 },
 "nbformat": 4,
 "nbformat_minor": 2
}
